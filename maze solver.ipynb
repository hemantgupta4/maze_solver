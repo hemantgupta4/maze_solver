{
 "cells": [
  {
   "cell_type": "code",
   "execution_count": 5,
   "metadata": {},
   "outputs": [
    {
     "name": "stdout",
     "output_type": "stream",
     "text": [
      "Requirement already satisfied: opencv-python in c:\\anaconda\\lib\\site-packages (4.5.5.64)\n",
      "Requirement already satisfied: numpy>=1.17.3; python_version >= \"3.8\" in c:\\anaconda\\lib\\site-packages (from opencv-python) (1.19.2)\n"
     ]
    }
   ],
   "source": [
    "!pip3 install opencv-python\n",
    "\n"
   ]
  },
  {
   "cell_type": "code",
   "execution_count": null,
   "metadata": {},
   "outputs": [],
   "source": [
    "import cv2\n",
    "import numpy as np\n",
    "import matplotlib.pyplot as plt"
   ]
  },
  {
   "cell_type": "code",
   "execution_count": 15,
   "metadata": {},
   "outputs": [
    {
     "data": {
      "text/plain": [
       "(160, 160, 3)"
      ]
     },
     "execution_count": 15,
     "metadata": {},
     "output_type": "execute_result"
    }
   ],
   "source": [
    "maze_img = cv2.imread(\"C:/Users/KIIT/maze1.png\")\n",
    "maze_img = cv2.resize(maze_img, (160, 160))\n",
    "maze_img.shape"
   ]
  },
  {
   "cell_type": "code",
   "execution_count": 16,
   "metadata": {},
   "outputs": [
    {
     "data": {
      "text/plain": [
       "<matplotlib.image.AxesImage at 0x289bd21dd30>"
      ]
     },
     "execution_count": 16,
     "metadata": {},
     "output_type": "execute_result"
    },
    {
     "data": {
      "image/png": "[encoded data removed]",
      "text/plain": [
       "<Figure size 432x288 with 1 Axes>"
      ]
     },
     "metadata": {
      "needs_background": "light"
     },
     "output_type": "display_data"
    }
   ],
   "source": [
    "plt.imshow(maze_img)"
   ]
  },
  {
   "cell_type": "code",
   "execution_count": null,
   "metadata": {},
   "outputs": [],
   "source": [
    "start_coord = tuple(map(int, input('Enter start co-ordinates (ranging (0,0) - (9,9)): ').split(' ')))\n",
    "end_coord = tuple(map(int, input('Enter end co-ordinates (ranging (0,0) - (9,9)): ').split(' ')))\n",
    "print('The start and end points respectively are: ', start_coord, end_coord)"
   ]
  },
  {
   "cell_type": "code",
   "execution_count": null,
   "metadata": {},
   "outputs": [],
   "source": [
    "maze_copy = maze_img.copy()\n",
    "maze_copy = cv2.cvtColor(maze_copy, cv2.COLOR_BGR2GRAY)\n"
   ]
  },
  {
   "cell_type": "code",
   "execution_count": null,
   "metadata": {},
   "outputs": [],
   "source": [
    "kernel_1 = np.ones((7,7),np.uint8)    \n",
    "erosion = cv2.erode(maze_copy, kernel_1, iterations = 1)  \n",
    "kernel_2 = np.ones((3,3),np.uint8)\n",
    "dilation = cv2.dilate(erosion, kernel_2, iterations = 1)\n",
    "\t\n",
    "ret, thresh = cv2.threshold(dilation, 120, 255, cv2.THRESH_BINARY)"
   ]
  },
  {
   "cell_type": "code",
   "execution_count": null,
   "metadata": {},
   "outputs": [],
   "source": [
    "def cell_work(cell):\n",
    "    size = cell.shape\n",
    "\n",
    "    # checking the presence of black pixel on the midpoint of each border\n",
    "    west = bool(cell[int(size[0]/2),0] < 150) * 1\n",
    "    north = bool(cell[0,int(size[1]/2)] < 150) * 2 \n",
    "    east = bool(cell[int(size[0]/2), int(size[1]-1)] < 150) * 4\n",
    "    south = bool(cell[int(size[0]-1) ,int(size[1]/2)] < 150) * 8\n",
    "    \n",
    "    # adding up all the weights to determine the cell value\n",
    "    value = west+north+east+south     \n",
    "    return value"
   ]
  },
  {
   "cell_type": "code",
   "execution_count": null,
   "metadata": {},
   "outputs": [],
   "source": [
    "maze_array = []\n",
    "\n",
    "for i in range(10):\n",
    "    rows_val = []\n",
    "    for j in range(10):\n",
    "        cell = thresh[(16*i):(16*(i+1)), (16*j):(16*(j+1))]     # focusing on every cell by cropping it out of main image \n",
    "        v = cell_work(cell)         # storing the cell value into v \n",
    "        rows_val.append(v)          # appending the v into the rows_val\n",
    "    maze_array.append(rows_val)\n",
    "    \n",
    "# print(maze_array)"
   ]
  },
  {
   "cell_type": "code",
   "execution_count": null,
   "metadata": {},
   "outputs": [],
   "source": [
    "def find_path(maze_array, start_coord, end_coord):    \n",
    "    # If path exist or not\n",
    "    flag = 0  \n",
    "\n",
    "    # For storing the path in the form of list\n",
    "    path_array_list = []\n",
    "\n",
    "    # tracker for the path_array_list\n",
    "    p = 0\n",
    "\n",
    "    temp_maze_array = np.copy(maze_array)\n",
    "\n",
    "    # Appending the first coordinate to the list\n",
    "    path_array_list.append(list(start_coord))\n",
    "\n",
    "    while True:\n",
    "        h,w = path_array_list[p][0], path_array_list[p][1]\n",
    "\n",
    "        # If we reach the final point then we need to break the loop\n",
    "        if path_array_list[-1]==list(end_coord):\n",
    "            break\n",
    "\n",
    "        # Open Downwards\n",
    "        if 15 - temp_maze_array[h][w] > 7:\n",
    "            temp_maze_array[h][w] += 8\n",
    "            h=h+1\n",
    "            path_array_list.append([h,w])\n",
    "            temp_maze_array[h][w] += 2\n",
    "            p=p+1\n",
    "\n",
    "        # Open Rightwards\n",
    "        elif 15 - temp_maze_array[h][w] > 3:\n",
    "            temp_maze_array[h][w] += 4\n",
    "            w=w+1\n",
    "            path_array_list.append([h,w])\n",
    "            temp_maze_array[h][w] += 1\n",
    "            p=p+1\n",
    "\n",
    "        # Open Upwards\n",
    "        elif 15 - temp_maze_array[h][w] > 1:\n",
    "            temp_maze_array[h][w] += 2\n",
    "            h=h-1\n",
    "            path_array_list.append([h,w])\n",
    "            temp_maze_array[h][w] += 8\n",
    "            p=p+1\n",
    "\n",
    "        # Open Leftwards\n",
    "        elif 15 - temp_maze_array[h][w] > 0:\n",
    "            temp_maze_array[h][w] += 1\n",
    "            w=w-1\n",
    "            path_array_list.append([h,w])\n",
    "            temp_maze_array[h][w] += 4\n",
    "            p=p+1\n",
    "\n",
    "        else:\n",
    "            path_array_list.pop()\n",
    "            if p != 0:\n",
    "                p -=1\n",
    "            else:\n",
    "                # we reach the first element by backtracking\n",
    "                path_array_list = None\n",
    "                flag = 1\n",
    "                break\n",
    "\n",
    "    if flag == 0:\n",
    "        path = []\n",
    "        for i in path_array_list:\n",
    "            path.append(tuple(i))\n",
    "\n",
    "\n",
    "    return path"
   ]
  },
  {
   "cell_type": "code",
   "execution_count": null,
   "metadata": {},
   "outputs": [],
   "source": [
    "final_path = find_path(maze_array, start_coord, end_coord)\n",
    "print('Maze path is as follows: ', final_path)"
   ]
  },
  {
   "cell_type": "code",
   "execution_count": null,
   "metadata": {},
   "outputs": [],
   "source": [
    "def drawPath(img, start_c, end_c, path):\n",
    "    init_w = -8\n",
    "    init_h = -8\n",
    "    \n",
    "    for i in range(len(path)-1):\n",
    "        pt1 = path[i]\n",
    "        pt2 = path[i+1]\n",
    "        \n",
    "        start = (((pt1[1]+1)*(16))+init_w, ((pt1[0]+1)*(16))+init_h)\n",
    "        end = (((pt2[1]+1)*(16))+init_w, ((pt2[0]+1)*(16))+init_h)\n",
    "        \n",
    "        cv2.line(img, start, end, (255, 0, 0), 4)\n",
    "    \n",
    "    \n",
    "    return img"
   ]
  },
  {
   "cell_type": "code",
   "execution_count": null,
   "metadata": {},
   "outputs": [],
   "source": [
    "solved = drawPath(maze_img, start_coord, end_coord, final_path)"
   ]
  },
  {
   "cell_type": "code",
   "execution_count": null,
   "metadata": {},
   "outputs": [],
   "source": [
    "print('The solved maze is as follows: ')\n",
    "plt.imshow(solved)"
   ]
  },
  {
   "cell_type": "code",
   "execution_count": null,
   "metadata": {},
   "outputs": [],
   "source": []
  }
 ],
 "metadata": {
  "kernelspec": {
   "display_name": "Python 3",
   "language": "python",
   "name": "python3"
  },
  "language_info": {
   "codemirror_mode": {
    "name": "ipython",
    "version": 3
   },
   "file_extension": ".py",
   "mimetype": "text/x-python",
   "name": "python",
   "nbconvert_exporter": "python",
   "pygments_lexer": "ipython3",
   "version": "3.8.5"
  }
 },
 "nbformat": 4,
 "nbformat_minor": 4
}
